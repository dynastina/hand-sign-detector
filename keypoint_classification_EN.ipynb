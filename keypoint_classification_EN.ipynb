{
 "cells": [
  {
   "cell_type": "code",
   "execution_count": 1,
   "metadata": {
    "id": "igMyGnjE9hEp"
   },
   "outputs": [],
   "source": [
    "import csv\n",
    "\n",
    "import numpy as np\n",
    "import tensorflow as tf\n",
    "from sklearn.model_selection import train_test_split\n",
    "\n",
    "RANDOM_SEED = 42"
   ]
  },
  {
   "cell_type": "markdown",
   "metadata": {
    "id": "t2HDvhIu9hEr"
   },
   "source": [
    "# Specify each path"
   ]
  },
  {
   "cell_type": "code",
   "execution_count": 2,
   "metadata": {
    "id": "9NvZP2Zn9hEy"
   },
   "outputs": [],
   "source": [
    "dataset = 'model/keypoint_classifier/keypoint.csv'\n",
    "model_save_path = 'model/keypoint_classifier/keypoint_classifier.hdf5'\n",
    "tflite_save_path = 'model/keypoint_classifier/keypoint_classifier.tflite'"
   ]
  },
  {
   "cell_type": "markdown",
   "metadata": {
    "id": "s5oMH7x19hEz"
   },
   "source": [
    "# Set number of classes"
   ]
  },
  {
   "cell_type": "code",
   "execution_count": 3,
   "metadata": {
    "id": "du4kodXL9hEz"
   },
   "outputs": [],
   "source": [
    "NUM_CLASSES = 5"
   ]
  },
  {
   "cell_type": "markdown",
   "metadata": {
    "id": "XjnL0uso9hEz"
   },
   "source": [
    "# Dataset reading"
   ]
  },
  {
   "cell_type": "code",
   "execution_count": 4,
   "metadata": {
    "id": "QT5ZqtEz9hE0"
   },
   "outputs": [],
   "source": [
    "X_dataset = np.loadtxt(dataset, delimiter=',', dtype='float32', usecols=list(range(1, (21 * 2) + 1)))"
   ]
  },
  {
   "cell_type": "code",
   "execution_count": 5,
   "metadata": {
    "id": "QmoKFsp49hE0"
   },
   "outputs": [],
   "source": [
    "y_dataset = np.loadtxt(dataset, delimiter=',', dtype='int32', usecols=(0))"
   ]
  },
  {
   "cell_type": "code",
   "execution_count": 6,
   "metadata": {
    "id": "xQU7JTZ_9hE0"
   },
   "outputs": [],
   "source": [
    "X_train, X_test, y_train, y_test = train_test_split(X_dataset, y_dataset, train_size=0.75, random_state=RANDOM_SEED)"
   ]
  },
  {
   "cell_type": "markdown",
   "metadata": {
    "id": "mxK_lETT9hE0"
   },
   "source": [
    "# Model building"
   ]
  },
  {
   "cell_type": "code",
   "execution_count": 7,
   "metadata": {
    "id": "vHBmUf1t9hE1"
   },
   "outputs": [],
   "source": [
    "model = tf.keras.models.Sequential([\n",
    "    tf.keras.layers.Input((21 * 2, )),\n",
    "    tf.keras.layers.Dropout(0.2),\n",
    "    tf.keras.layers.Dense(20, activation='relu'),\n",
    "    tf.keras.layers.Dropout(0.4),\n",
    "    tf.keras.layers.Dense(10, activation='relu'),\n",
    "    tf.keras.layers.Dense(NUM_CLASSES, activation='softmax')\n",
    "])"
   ]
  },
  {
   "cell_type": "code",
   "execution_count": 8,
   "metadata": {
    "colab": {
     "base_uri": "https://localhost:8080/"
    },
    "id": "ypqky9tc9hE1",
    "outputId": "5db082bb-30e3-4110-bf63-a1ee777ecd46"
   },
   "outputs": [
    {
     "name": "stdout",
     "output_type": "stream",
     "text": [
      "Model: \"sequential\"\n",
      "_________________________________________________________________\n",
      " Layer (type)                Output Shape              Param #   \n",
      "=================================================================\n",
      " dropout (Dropout)           (None, 42)                0         \n",
      "                                                                 \n",
      " dense (Dense)               (None, 20)                860       \n",
      "                                                                 \n",
      " dropout_1 (Dropout)         (None, 20)                0         \n",
      "                                                                 \n",
      " dense_1 (Dense)             (None, 10)                210       \n",
      "                                                                 \n",
      " dense_2 (Dense)             (None, 5)                 55        \n",
      "                                                                 \n",
      "=================================================================\n",
      "Total params: 1,125\n",
      "Trainable params: 1,125\n",
      "Non-trainable params: 0\n",
      "_________________________________________________________________\n"
     ]
    }
   ],
   "source": [
    "model.summary()  # tf.keras.utils.plot_model(model, show_shapes=True)"
   ]
  },
  {
   "cell_type": "code",
   "execution_count": 9,
   "metadata": {
    "id": "MbMjOflQ9hE1"
   },
   "outputs": [],
   "source": [
    "# Model checkpoint callback\n",
    "cp_callback = tf.keras.callbacks.ModelCheckpoint(\n",
    "    model_save_path, verbose=1, save_weights_only=False)\n",
    "# Callback for early stopping\n",
    "es_callback = tf.keras.callbacks.EarlyStopping(patience=20, verbose=1)"
   ]
  },
  {
   "cell_type": "code",
   "execution_count": 10,
   "metadata": {
    "id": "c3Dac0M_9hE2"
   },
   "outputs": [],
   "source": [
    "# Model compilation\n",
    "model.compile(\n",
    "    optimizer='adam',\n",
    "    loss='sparse_categorical_crossentropy',\n",
    "    metrics=['accuracy']\n",
    ")"
   ]
  },
  {
   "cell_type": "markdown",
   "metadata": {
    "id": "7XI0j1Iu9hE2"
   },
   "source": [
    "# Model training"
   ]
  },
  {
   "cell_type": "code",
   "execution_count": 11,
   "metadata": {
    "colab": {
     "base_uri": "https://localhost:8080/"
    },
    "id": "WirBl-JE9hE3",
    "outputId": "71b30ca2-8294-4d9d-8aa2-800d90d399de",
    "scrolled": true
   },
   "outputs": [
    {
     "name": "stdout",
     "output_type": "stream",
     "text": [
      "Epoch 1/1000\n",
      "1/3 [=========>....................] - ETA: 1s - loss: 1.7138 - accuracy: 0.1484\n",
      "Epoch 1: saving model to model/keypoint_classifier\\keypoint_classifier.hdf5\n",
      "3/3 [==============================] - 2s 371ms/step - loss: 1.6795 - accuracy: 0.1742 - val_loss: 1.6474 - val_accuracy: 0.1250\n",
      "Epoch 2/1000\n",
      "1/3 [=========>....................] - ETA: 0s - loss: 1.6621 - accuracy: 0.1484\n",
      "Epoch 2: saving model to model/keypoint_classifier\\keypoint_classifier.hdf5\n",
      "3/3 [==============================] - 0s 64ms/step - loss: 1.6623 - accuracy: 0.1562 - val_loss: 1.6303 - val_accuracy: 0.0982\n",
      "Epoch 3/1000\n",
      "1/3 [=========>....................] - ETA: 0s - loss: 1.6382 - accuracy: 0.1562\n",
      "Epoch 3: saving model to model/keypoint_classifier\\keypoint_classifier.hdf5\n",
      "3/3 [==============================] - 0s 52ms/step - loss: 1.6460 - accuracy: 0.1592 - val_loss: 1.6162 - val_accuracy: 0.0804\n",
      "Epoch 4/1000\n",
      "1/3 [=========>....................] - ETA: 0s - loss: 1.6242 - accuracy: 0.1797\n",
      "Epoch 4: saving model to model/keypoint_classifier\\keypoint_classifier.hdf5\n",
      "3/3 [==============================] - 0s 52ms/step - loss: 1.6277 - accuracy: 0.1682 - val_loss: 1.6037 - val_accuracy: 0.0893\n",
      "Epoch 5/1000\n",
      "1/3 [=========>....................] - ETA: 0s - loss: 1.6159 - accuracy: 0.1953\n",
      "Epoch 5: saving model to model/keypoint_classifier\\keypoint_classifier.hdf5\n",
      "3/3 [==============================] - 0s 48ms/step - loss: 1.6210 - accuracy: 0.1832 - val_loss: 1.5923 - val_accuracy: 0.0804\n",
      "Epoch 6/1000\n",
      "1/3 [=========>....................] - ETA: 0s - loss: 1.5946 - accuracy: 0.1797\n",
      "Epoch 6: saving model to model/keypoint_classifier\\keypoint_classifier.hdf5\n",
      "3/3 [==============================] - 0s 53ms/step - loss: 1.6112 - accuracy: 0.1562 - val_loss: 1.5824 - val_accuracy: 0.0893\n",
      "Epoch 7/1000\n",
      "1/3 [=========>....................] - ETA: 0s - loss: 1.5760 - accuracy: 0.1719\n",
      "Epoch 7: saving model to model/keypoint_classifier\\keypoint_classifier.hdf5\n",
      "3/3 [==============================] - 0s 43ms/step - loss: 1.5824 - accuracy: 0.1712 - val_loss: 1.5746 - val_accuracy: 0.1518\n",
      "Epoch 8/1000\n",
      "1/3 [=========>....................] - ETA: 0s - loss: 1.6095 - accuracy: 0.1875\n",
      "Epoch 8: saving model to model/keypoint_classifier\\keypoint_classifier.hdf5\n",
      "3/3 [==============================] - 0s 49ms/step - loss: 1.5965 - accuracy: 0.1982 - val_loss: 1.5677 - val_accuracy: 0.2768\n",
      "Epoch 9/1000\n",
      "1/3 [=========>....................] - ETA: 0s - loss: 1.6127 - accuracy: 0.1797\n",
      "Epoch 9: saving model to model/keypoint_classifier\\keypoint_classifier.hdf5\n",
      "3/3 [==============================] - 0s 44ms/step - loss: 1.5911 - accuracy: 0.1982 - val_loss: 1.5615 - val_accuracy: 0.3393\n",
      "Epoch 10/1000\n",
      "1/3 [=========>....................] - ETA: 0s - loss: 1.5969 - accuracy: 0.2109\n",
      "Epoch 10: saving model to model/keypoint_classifier\\keypoint_classifier.hdf5\n",
      "3/3 [==============================] - 0s 41ms/step - loss: 1.5850 - accuracy: 0.2012 - val_loss: 1.5559 - val_accuracy: 0.4018\n",
      "Epoch 11/1000\n",
      "1/3 [=========>....................] - ETA: 0s - loss: 1.5961 - accuracy: 0.2031\n",
      "Epoch 11: saving model to model/keypoint_classifier\\keypoint_classifier.hdf5\n",
      "3/3 [==============================] - 0s 45ms/step - loss: 1.5675 - accuracy: 0.2312 - val_loss: 1.5505 - val_accuracy: 0.4554\n",
      "Epoch 12/1000\n",
      "1/3 [=========>....................] - ETA: 0s - loss: 1.5517 - accuracy: 0.2031\n",
      "Epoch 12: saving model to model/keypoint_classifier\\keypoint_classifier.hdf5\n",
      "3/3 [==============================] - 0s 131ms/step - loss: 1.5659 - accuracy: 0.2012 - val_loss: 1.5450 - val_accuracy: 0.4821\n",
      "Epoch 13/1000\n",
      "1/3 [=========>....................] - ETA: 0s - loss: 1.5694 - accuracy: 0.2812\n",
      "Epoch 13: saving model to model/keypoint_classifier\\keypoint_classifier.hdf5\n",
      "3/3 [==============================] - 0s 43ms/step - loss: 1.5612 - accuracy: 0.2703 - val_loss: 1.5397 - val_accuracy: 0.4911\n",
      "Epoch 14/1000\n",
      "1/3 [=========>....................] - ETA: 0s - loss: 1.5295 - accuracy: 0.3047\n",
      "Epoch 14: saving model to model/keypoint_classifier\\keypoint_classifier.hdf5\n",
      "3/3 [==============================] - 0s 49ms/step - loss: 1.5425 - accuracy: 0.2823 - val_loss: 1.5335 - val_accuracy: 0.5714\n",
      "Epoch 15/1000\n",
      "1/3 [=========>....................] - ETA: 0s - loss: 1.5353 - accuracy: 0.2578\n",
      "Epoch 15: saving model to model/keypoint_classifier\\keypoint_classifier.hdf5\n",
      "3/3 [==============================] - 0s 43ms/step - loss: 1.5570 - accuracy: 0.2523 - val_loss: 1.5269 - val_accuracy: 0.5893\n",
      "Epoch 16/1000\n",
      "1/3 [=========>....................] - ETA: 0s - loss: 1.5075 - accuracy: 0.2891\n",
      "Epoch 16: saving model to model/keypoint_classifier\\keypoint_classifier.hdf5\n",
      "3/3 [==============================] - 0s 40ms/step - loss: 1.5235 - accuracy: 0.3033 - val_loss: 1.5192 - val_accuracy: 0.5893\n",
      "Epoch 17/1000\n",
      "1/3 [=========>....................] - ETA: 0s - loss: 1.5901 - accuracy: 0.2344\n",
      "Epoch 17: saving model to model/keypoint_classifier\\keypoint_classifier.hdf5\n",
      "3/3 [==============================] - 0s 49ms/step - loss: 1.5596 - accuracy: 0.2823 - val_loss: 1.5117 - val_accuracy: 0.5982\n",
      "Epoch 18/1000\n",
      "1/3 [=========>....................] - ETA: 0s - loss: 1.5321 - accuracy: 0.3047\n",
      "Epoch 18: saving model to model/keypoint_classifier\\keypoint_classifier.hdf5\n",
      "3/3 [==============================] - 0s 48ms/step - loss: 1.5313 - accuracy: 0.3063 - val_loss: 1.5032 - val_accuracy: 0.6339\n",
      "Epoch 19/1000\n",
      "1/3 [=========>....................] - ETA: 0s - loss: 1.5082 - accuracy: 0.3047\n",
      "Epoch 19: saving model to model/keypoint_classifier\\keypoint_classifier.hdf5\n",
      "3/3 [==============================] - 0s 45ms/step - loss: 1.5303 - accuracy: 0.2973 - val_loss: 1.4946 - val_accuracy: 0.6250\n",
      "Epoch 20/1000\n",
      "1/3 [=========>....................] - ETA: 0s - loss: 1.5256 - accuracy: 0.3125\n",
      "Epoch 20: saving model to model/keypoint_classifier\\keypoint_classifier.hdf5\n",
      "3/3 [==============================] - 0s 42ms/step - loss: 1.5101 - accuracy: 0.3393 - val_loss: 1.4857 - val_accuracy: 0.5893\n",
      "Epoch 21/1000\n",
      "1/3 [=========>....................] - ETA: 0s - loss: 1.5270 - accuracy: 0.2734\n",
      "Epoch 21: saving model to model/keypoint_classifier\\keypoint_classifier.hdf5\n",
      "3/3 [==============================] - 0s 55ms/step - loss: 1.5026 - accuracy: 0.3333 - val_loss: 1.4768 - val_accuracy: 0.6071\n",
      "Epoch 22/1000\n",
      "1/3 [=========>....................] - ETA: 0s - loss: 1.4841 - accuracy: 0.3047\n",
      "Epoch 22: saving model to model/keypoint_classifier\\keypoint_classifier.hdf5\n",
      "3/3 [==============================] - 0s 56ms/step - loss: 1.4937 - accuracy: 0.3243 - val_loss: 1.4681 - val_accuracy: 0.5625\n",
      "Epoch 23/1000\n",
      "1/3 [=========>....................] - ETA: 0s - loss: 1.4980 - accuracy: 0.2812\n",
      "Epoch 23: saving model to model/keypoint_classifier\\keypoint_classifier.hdf5\n",
      "3/3 [==============================] - 0s 64ms/step - loss: 1.4908 - accuracy: 0.3033 - val_loss: 1.4595 - val_accuracy: 0.5893\n",
      "Epoch 24/1000\n",
      "1/3 [=========>....................] - ETA: 0s - loss: 1.4805 - accuracy: 0.3672\n",
      "Epoch 24: saving model to model/keypoint_classifier\\keypoint_classifier.hdf5\n",
      "3/3 [==============================] - 0s 70ms/step - loss: 1.4765 - accuracy: 0.3664 - val_loss: 1.4507 - val_accuracy: 0.6250\n",
      "Epoch 25/1000\n",
      "1/3 [=========>....................] - ETA: 0s - loss: 1.4314 - accuracy: 0.3281\n",
      "Epoch 25: saving model to model/keypoint_classifier\\keypoint_classifier.hdf5\n",
      "3/3 [==============================] - 0s 54ms/step - loss: 1.4647 - accuracy: 0.3273 - val_loss: 1.4423 - val_accuracy: 0.6339\n",
      "Epoch 26/1000\n",
      "1/3 [=========>....................] - ETA: 0s - loss: 1.4806 - accuracy: 0.3828\n",
      "Epoch 26: saving model to model/keypoint_classifier\\keypoint_classifier.hdf5\n",
      "3/3 [==============================] - 0s 47ms/step - loss: 1.4800 - accuracy: 0.3604 - val_loss: 1.4337 - val_accuracy: 0.6429\n",
      "Epoch 27/1000\n",
      "1/3 [=========>....................] - ETA: 0s - loss: 1.5110 - accuracy: 0.4141\n",
      "Epoch 27: saving model to model/keypoint_classifier\\keypoint_classifier.hdf5\n",
      "3/3 [==============================] - 0s 40ms/step - loss: 1.4669 - accuracy: 0.3664 - val_loss: 1.4255 - val_accuracy: 0.6429\n",
      "Epoch 28/1000\n",
      "1/3 [=========>....................] - ETA: 0s - loss: 1.4511 - accuracy: 0.3047\n",
      "Epoch 28: saving model to model/keypoint_classifier\\keypoint_classifier.hdf5\n"
     ]
    },
    {
     "name": "stdout",
     "output_type": "stream",
     "text": [
      "3/3 [==============================] - 0s 34ms/step - loss: 1.4547 - accuracy: 0.3243 - val_loss: 1.4172 - val_accuracy: 0.6429\n",
      "Epoch 29/1000\n",
      "1/3 [=========>....................] - ETA: 0s - loss: 1.3973 - accuracy: 0.4609\n",
      "Epoch 29: saving model to model/keypoint_classifier\\keypoint_classifier.hdf5\n",
      "3/3 [==============================] - 0s 52ms/step - loss: 1.4485 - accuracy: 0.3844 - val_loss: 1.4080 - val_accuracy: 0.6518\n",
      "Epoch 30/1000\n",
      "1/3 [=========>....................] - ETA: 0s - loss: 1.4385 - accuracy: 0.3750\n",
      "Epoch 30: saving model to model/keypoint_classifier\\keypoint_classifier.hdf5\n",
      "3/3 [==============================] - 0s 58ms/step - loss: 1.4647 - accuracy: 0.3333 - val_loss: 1.3986 - val_accuracy: 0.6429\n",
      "Epoch 31/1000\n",
      "1/3 [=========>....................] - ETA: 0s - loss: 1.4146 - accuracy: 0.3828\n",
      "Epoch 31: saving model to model/keypoint_classifier\\keypoint_classifier.hdf5\n",
      "3/3 [==============================] - 0s 39ms/step - loss: 1.4177 - accuracy: 0.3964 - val_loss: 1.3893 - val_accuracy: 0.6607\n",
      "Epoch 32/1000\n",
      "1/3 [=========>....................] - ETA: 0s - loss: 1.3673 - accuracy: 0.4141\n",
      "Epoch 32: saving model to model/keypoint_classifier\\keypoint_classifier.hdf5\n",
      "3/3 [==============================] - 0s 45ms/step - loss: 1.4125 - accuracy: 0.3754 - val_loss: 1.3793 - val_accuracy: 0.6875\n",
      "Epoch 33/1000\n",
      "1/3 [=========>....................] - ETA: 0s - loss: 1.4394 - accuracy: 0.4062\n",
      "Epoch 33: saving model to model/keypoint_classifier\\keypoint_classifier.hdf5\n",
      "3/3 [==============================] - 0s 47ms/step - loss: 1.4346 - accuracy: 0.3694 - val_loss: 1.3688 - val_accuracy: 0.6964\n",
      "Epoch 34/1000\n",
      "1/3 [=========>....................] - ETA: 0s - loss: 1.3989 - accuracy: 0.3828\n",
      "Epoch 34: saving model to model/keypoint_classifier\\keypoint_classifier.hdf5\n",
      "3/3 [==============================] - 0s 41ms/step - loss: 1.4043 - accuracy: 0.3874 - val_loss: 1.3582 - val_accuracy: 0.6964\n",
      "Epoch 35/1000\n",
      "1/3 [=========>....................] - ETA: 0s - loss: 1.3933 - accuracy: 0.4297\n",
      "Epoch 35: saving model to model/keypoint_classifier\\keypoint_classifier.hdf5\n",
      "3/3 [==============================] - 0s 35ms/step - loss: 1.4090 - accuracy: 0.4084 - val_loss: 1.3485 - val_accuracy: 0.6875\n",
      "Epoch 36/1000\n",
      "1/3 [=========>....................] - ETA: 0s - loss: 1.4120 - accuracy: 0.3984\n",
      "Epoch 36: saving model to model/keypoint_classifier\\keypoint_classifier.hdf5\n",
      "3/3 [==============================] - 0s 41ms/step - loss: 1.3969 - accuracy: 0.4174 - val_loss: 1.3390 - val_accuracy: 0.6786\n",
      "Epoch 37/1000\n",
      "1/3 [=========>....................] - ETA: 0s - loss: 1.4125 - accuracy: 0.3984\n",
      "Epoch 37: saving model to model/keypoint_classifier\\keypoint_classifier.hdf5\n",
      "3/3 [==============================] - 0s 38ms/step - loss: 1.4026 - accuracy: 0.3964 - val_loss: 1.3296 - val_accuracy: 0.6607\n",
      "Epoch 38/1000\n",
      "1/3 [=========>....................] - ETA: 0s - loss: 1.3958 - accuracy: 0.3828\n",
      "Epoch 38: saving model to model/keypoint_classifier\\keypoint_classifier.hdf5\n",
      "3/3 [==============================] - 0s 48ms/step - loss: 1.3751 - accuracy: 0.4294 - val_loss: 1.3196 - val_accuracy: 0.6518\n",
      "Epoch 39/1000\n",
      "1/3 [=========>....................] - ETA: 0s - loss: 1.3333 - accuracy: 0.4141\n",
      "Epoch 39: saving model to model/keypoint_classifier\\keypoint_classifier.hdf5\n",
      "3/3 [==============================] - 0s 66ms/step - loss: 1.3608 - accuracy: 0.3994 - val_loss: 1.3089 - val_accuracy: 0.6518\n",
      "Epoch 40/1000\n",
      "1/3 [=========>....................] - ETA: 0s - loss: 1.3747 - accuracy: 0.4844\n",
      "Epoch 40: saving model to model/keypoint_classifier\\keypoint_classifier.hdf5\n",
      "3/3 [==============================] - 0s 51ms/step - loss: 1.3654 - accuracy: 0.4264 - val_loss: 1.2983 - val_accuracy: 0.6518\n",
      "Epoch 41/1000\n",
      "1/3 [=========>....................] - ETA: 0s - loss: 1.3857 - accuracy: 0.4219\n",
      "Epoch 41: saving model to model/keypoint_classifier\\keypoint_classifier.hdf5\n",
      "3/3 [==============================] - 0s 56ms/step - loss: 1.3538 - accuracy: 0.4204 - val_loss: 1.2880 - val_accuracy: 0.6429\n",
      "Epoch 42/1000\n",
      "1/3 [=========>....................] - ETA: 0s - loss: 1.3627 - accuracy: 0.4062\n",
      "Epoch 42: saving model to model/keypoint_classifier\\keypoint_classifier.hdf5\n",
      "3/3 [==============================] - 0s 69ms/step - loss: 1.3686 - accuracy: 0.3814 - val_loss: 1.2792 - val_accuracy: 0.6429\n",
      "Epoch 43/1000\n",
      "1/3 [=========>....................] - ETA: 0s - loss: 1.3627 - accuracy: 0.4297\n",
      "Epoch 43: saving model to model/keypoint_classifier\\keypoint_classifier.hdf5\n",
      "3/3 [==============================] - 0s 57ms/step - loss: 1.3387 - accuracy: 0.4505 - val_loss: 1.2704 - val_accuracy: 0.6429\n",
      "Epoch 44/1000\n",
      "1/3 [=========>....................] - ETA: 0s - loss: 1.3607 - accuracy: 0.3984\n",
      "Epoch 44: saving model to model/keypoint_classifier\\keypoint_classifier.hdf5\n",
      "3/3 [==============================] - 0s 46ms/step - loss: 1.3471 - accuracy: 0.4384 - val_loss: 1.2620 - val_accuracy: 0.6429\n",
      "Epoch 45/1000\n",
      "1/3 [=========>....................] - ETA: 0s - loss: 1.2971 - accuracy: 0.5000\n",
      "Epoch 45: saving model to model/keypoint_classifier\\keypoint_classifier.hdf5\n",
      "3/3 [==============================] - 0s 39ms/step - loss: 1.3278 - accuracy: 0.4444 - val_loss: 1.2523 - val_accuracy: 0.6339\n",
      "Epoch 46/1000\n",
      "1/3 [=========>....................] - ETA: 0s - loss: 1.3678 - accuracy: 0.4297\n",
      "Epoch 46: saving model to model/keypoint_classifier\\keypoint_classifier.hdf5\n",
      "3/3 [==============================] - 0s 49ms/step - loss: 1.3452 - accuracy: 0.4294 - val_loss: 1.2428 - val_accuracy: 0.6161\n",
      "Epoch 47/1000\n",
      "1/3 [=========>....................] - ETA: 0s - loss: 1.3782 - accuracy: 0.3125\n",
      "Epoch 47: saving model to model/keypoint_classifier\\keypoint_classifier.hdf5\n",
      "3/3 [==============================] - 0s 35ms/step - loss: 1.3439 - accuracy: 0.3934 - val_loss: 1.2342 - val_accuracy: 0.6161\n",
      "Epoch 48/1000\n",
      "1/3 [=========>....................] - ETA: 0s - loss: 1.3200 - accuracy: 0.4531\n",
      "Epoch 48: saving model to model/keypoint_classifier\\keypoint_classifier.hdf5\n",
      "3/3 [==============================] - 0s 37ms/step - loss: 1.3227 - accuracy: 0.4565 - val_loss: 1.2249 - val_accuracy: 0.6250\n",
      "Epoch 49/1000\n",
      "1/3 [=========>....................] - ETA: 0s - loss: 1.3000 - accuracy: 0.4688\n",
      "Epoch 49: saving model to model/keypoint_classifier\\keypoint_classifier.hdf5\n",
      "3/3 [==============================] - 0s 48ms/step - loss: 1.3330 - accuracy: 0.4745 - val_loss: 1.2166 - val_accuracy: 0.6250\n",
      "Epoch 50/1000\n",
      "1/3 [=========>....................] - ETA: 0s - loss: 1.2752 - accuracy: 0.4688\n",
      "Epoch 50: saving model to model/keypoint_classifier\\keypoint_classifier.hdf5\n",
      "3/3 [==============================] - 0s 47ms/step - loss: 1.2958 - accuracy: 0.4535 - val_loss: 1.2080 - val_accuracy: 0.6250\n",
      "Epoch 51/1000\n",
      "1/3 [=========>....................] - ETA: 0s - loss: 1.3136 - accuracy: 0.4453\n",
      "Epoch 51: saving model to model/keypoint_classifier\\keypoint_classifier.hdf5\n",
      "3/3 [==============================] - 0s 48ms/step - loss: 1.2875 - accuracy: 0.4625 - val_loss: 1.1991 - val_accuracy: 0.6339\n",
      "Epoch 52/1000\n",
      "1/3 [=========>....................] - ETA: 0s - loss: 1.3017 - accuracy: 0.4531\n",
      "Epoch 52: saving model to model/keypoint_classifier\\keypoint_classifier.hdf5\n",
      "3/3 [==============================] - 0s 39ms/step - loss: 1.2880 - accuracy: 0.4685 - val_loss: 1.1886 - val_accuracy: 0.6429\n",
      "Epoch 53/1000\n",
      "1/3 [=========>....................] - ETA: 0s - loss: 1.2855 - accuracy: 0.4922\n",
      "Epoch 53: saving model to model/keypoint_classifier\\keypoint_classifier.hdf5\n",
      "3/3 [==============================] - 0s 39ms/step - loss: 1.2767 - accuracy: 0.4895 - val_loss: 1.1774 - val_accuracy: 0.6607\n",
      "Epoch 54/1000\n",
      "1/3 [=========>....................] - ETA: 0s - loss: 1.2619 - accuracy: 0.5234\n",
      "Epoch 54: saving model to model/keypoint_classifier\\keypoint_classifier.hdf5\n",
      "3/3 [==============================] - 0s 37ms/step - loss: 1.2810 - accuracy: 0.4985 - val_loss: 1.1675 - val_accuracy: 0.6696\n",
      "Epoch 55/1000\n",
      "1/3 [=========>....................] - ETA: 0s - loss: 1.2646 - accuracy: 0.4844\n",
      "Epoch 55: saving model to model/keypoint_classifier\\keypoint_classifier.hdf5\n",
      "3/3 [==============================] - 0s 43ms/step - loss: 1.2624 - accuracy: 0.4775 - val_loss: 1.1581 - val_accuracy: 0.6607\n"
     ]
    },
    {
     "name": "stdout",
     "output_type": "stream",
     "text": [
      "Epoch 56/1000\n",
      "1/3 [=========>....................] - ETA: 0s - loss: 1.2179 - accuracy: 0.5078\n",
      "Epoch 56: saving model to model/keypoint_classifier\\keypoint_classifier.hdf5\n",
      "3/3 [==============================] - 0s 42ms/step - loss: 1.2226 - accuracy: 0.5315 - val_loss: 1.1466 - val_accuracy: 0.6786\n",
      "Epoch 57/1000\n",
      "1/3 [=========>....................] - ETA: 0s - loss: 1.2167 - accuracy: 0.5547\n",
      "Epoch 57: saving model to model/keypoint_classifier\\keypoint_classifier.hdf5\n",
      "3/3 [==============================] - 0s 35ms/step - loss: 1.2389 - accuracy: 0.5135 - val_loss: 1.1335 - val_accuracy: 0.6875\n",
      "Epoch 58/1000\n",
      "1/3 [=========>....................] - ETA: 0s - loss: 1.2729 - accuracy: 0.5000\n",
      "Epoch 58: saving model to model/keypoint_classifier\\keypoint_classifier.hdf5\n",
      "3/3 [==============================] - 0s 39ms/step - loss: 1.2567 - accuracy: 0.4835 - val_loss: 1.1203 - val_accuracy: 0.6964\n",
      "Epoch 59/1000\n",
      "1/3 [=========>....................] - ETA: 0s - loss: 1.2965 - accuracy: 0.4766\n",
      "Epoch 59: saving model to model/keypoint_classifier\\keypoint_classifier.hdf5\n",
      "3/3 [==============================] - 0s 69ms/step - loss: 1.2522 - accuracy: 0.4895 - val_loss: 1.1076 - val_accuracy: 0.7143\n",
      "Epoch 60/1000\n",
      "1/3 [=========>....................] - ETA: 0s - loss: 1.2578 - accuracy: 0.5000\n",
      "Epoch 60: saving model to model/keypoint_classifier\\keypoint_classifier.hdf5\n",
      "3/3 [==============================] - 0s 43ms/step - loss: 1.2018 - accuracy: 0.5255 - val_loss: 1.0965 - val_accuracy: 0.7143\n",
      "Epoch 61/1000\n",
      "1/3 [=========>....................] - ETA: 0s - loss: 1.2460 - accuracy: 0.4844\n",
      "Epoch 61: saving model to model/keypoint_classifier\\keypoint_classifier.hdf5\n",
      "3/3 [==============================] - 0s 62ms/step - loss: 1.2456 - accuracy: 0.4895 - val_loss: 1.0874 - val_accuracy: 0.7232\n",
      "Epoch 62/1000\n",
      "1/3 [=========>....................] - ETA: 0s - loss: 1.2491 - accuracy: 0.4609\n",
      "Epoch 62: saving model to model/keypoint_classifier\\keypoint_classifier.hdf5\n"
     ]
    },
    {
     "ename": "OSError",
     "evalue": "[Errno 0] Unable to create file (unable to lock file, errno = 0, error message = 'No error', Win32 GetLastError() = 33)",
     "output_type": "error",
     "traceback": [
      "\u001b[1;31m---------------------------------------------------------------------------\u001b[0m",
      "\u001b[1;31mOSError\u001b[0m                                   Traceback (most recent call last)",
      "Input \u001b[1;32mIn [11]\u001b[0m, in \u001b[0;36m<cell line: 1>\u001b[1;34m()\u001b[0m\n\u001b[1;32m----> 1\u001b[0m \u001b[43mmodel\u001b[49m\u001b[38;5;241;43m.\u001b[39;49m\u001b[43mfit\u001b[49m\u001b[43m(\u001b[49m\n\u001b[0;32m      2\u001b[0m \u001b[43m    \u001b[49m\u001b[43mX_train\u001b[49m\u001b[43m,\u001b[49m\n\u001b[0;32m      3\u001b[0m \u001b[43m    \u001b[49m\u001b[43my_train\u001b[49m\u001b[43m,\u001b[49m\n\u001b[0;32m      4\u001b[0m \u001b[43m    \u001b[49m\u001b[43mepochs\u001b[49m\u001b[38;5;241;43m=\u001b[39;49m\u001b[38;5;241;43m1000\u001b[39;49m\u001b[43m,\u001b[49m\n\u001b[0;32m      5\u001b[0m \u001b[43m    \u001b[49m\u001b[43mbatch_size\u001b[49m\u001b[38;5;241;43m=\u001b[39;49m\u001b[38;5;241;43m128\u001b[39;49m\u001b[43m,\u001b[49m\n\u001b[0;32m      6\u001b[0m \u001b[43m    \u001b[49m\u001b[43mvalidation_data\u001b[49m\u001b[38;5;241;43m=\u001b[39;49m\u001b[43m(\u001b[49m\u001b[43mX_test\u001b[49m\u001b[43m,\u001b[49m\u001b[43m \u001b[49m\u001b[43my_test\u001b[49m\u001b[43m)\u001b[49m\u001b[43m,\u001b[49m\n\u001b[0;32m      7\u001b[0m \u001b[43m    \u001b[49m\u001b[43mcallbacks\u001b[49m\u001b[38;5;241;43m=\u001b[39;49m\u001b[43m[\u001b[49m\u001b[43mcp_callback\u001b[49m\u001b[43m,\u001b[49m\u001b[43m \u001b[49m\u001b[43mes_callback\u001b[49m\u001b[43m]\u001b[49m\n\u001b[0;32m      8\u001b[0m \u001b[43m)\u001b[49m\n",
      "File \u001b[1;32m~\\AppData\\Local\\Programs\\Python\\Python310\\lib\\site-packages\\keras\\utils\\traceback_utils.py:67\u001b[0m, in \u001b[0;36mfilter_traceback.<locals>.error_handler\u001b[1;34m(*args, **kwargs)\u001b[0m\n\u001b[0;32m     65\u001b[0m \u001b[38;5;28;01mexcept\u001b[39;00m \u001b[38;5;167;01mException\u001b[39;00m \u001b[38;5;28;01mas\u001b[39;00m e:  \u001b[38;5;66;03m# pylint: disable=broad-except\u001b[39;00m\n\u001b[0;32m     66\u001b[0m   filtered_tb \u001b[38;5;241m=\u001b[39m _process_traceback_frames(e\u001b[38;5;241m.\u001b[39m__traceback__)\n\u001b[1;32m---> 67\u001b[0m   \u001b[38;5;28;01mraise\u001b[39;00m e\u001b[38;5;241m.\u001b[39mwith_traceback(filtered_tb) \u001b[38;5;28;01mfrom\u001b[39;00m \u001b[38;5;28mNone\u001b[39m\n\u001b[0;32m     68\u001b[0m \u001b[38;5;28;01mfinally\u001b[39;00m:\n\u001b[0;32m     69\u001b[0m   \u001b[38;5;28;01mdel\u001b[39;00m filtered_tb\n",
      "File \u001b[1;32m~\\AppData\\Local\\Programs\\Python\\Python310\\lib\\site-packages\\h5py\\_hl\\files.py:533\u001b[0m, in \u001b[0;36mFile.__init__\u001b[1;34m(self, name, mode, driver, libver, userblock_size, swmr, rdcc_nslots, rdcc_nbytes, rdcc_w0, track_order, fs_strategy, fs_persist, fs_threshold, fs_page_size, page_buf_size, min_meta_keep, min_raw_keep, locking, alignment_threshold, alignment_interval, **kwds)\u001b[0m\n\u001b[0;32m    525\u001b[0m     fapl \u001b[38;5;241m=\u001b[39m make_fapl(driver, libver, rdcc_nslots, rdcc_nbytes, rdcc_w0,\n\u001b[0;32m    526\u001b[0m                      locking, page_buf_size, min_meta_keep, min_raw_keep,\n\u001b[0;32m    527\u001b[0m                      alignment_threshold\u001b[38;5;241m=\u001b[39malignment_threshold,\n\u001b[0;32m    528\u001b[0m                      alignment_interval\u001b[38;5;241m=\u001b[39malignment_interval,\n\u001b[0;32m    529\u001b[0m                      \u001b[38;5;241m*\u001b[39m\u001b[38;5;241m*\u001b[39mkwds)\n\u001b[0;32m    530\u001b[0m     fcpl \u001b[38;5;241m=\u001b[39m make_fcpl(track_order\u001b[38;5;241m=\u001b[39mtrack_order, fs_strategy\u001b[38;5;241m=\u001b[39mfs_strategy,\n\u001b[0;32m    531\u001b[0m                      fs_persist\u001b[38;5;241m=\u001b[39mfs_persist, fs_threshold\u001b[38;5;241m=\u001b[39mfs_threshold,\n\u001b[0;32m    532\u001b[0m                      fs_page_size\u001b[38;5;241m=\u001b[39mfs_page_size)\n\u001b[1;32m--> 533\u001b[0m     fid \u001b[38;5;241m=\u001b[39m \u001b[43mmake_fid\u001b[49m\u001b[43m(\u001b[49m\u001b[43mname\u001b[49m\u001b[43m,\u001b[49m\u001b[43m \u001b[49m\u001b[43mmode\u001b[49m\u001b[43m,\u001b[49m\u001b[43m \u001b[49m\u001b[43muserblock_size\u001b[49m\u001b[43m,\u001b[49m\u001b[43m \u001b[49m\u001b[43mfapl\u001b[49m\u001b[43m,\u001b[49m\u001b[43m \u001b[49m\u001b[43mfcpl\u001b[49m\u001b[43m,\u001b[49m\u001b[43m \u001b[49m\u001b[43mswmr\u001b[49m\u001b[38;5;241;43m=\u001b[39;49m\u001b[43mswmr\u001b[49m\u001b[43m)\u001b[49m\n\u001b[0;32m    535\u001b[0m \u001b[38;5;28;01mif\u001b[39;00m \u001b[38;5;28misinstance\u001b[39m(libver, \u001b[38;5;28mtuple\u001b[39m):\n\u001b[0;32m    536\u001b[0m     \u001b[38;5;28mself\u001b[39m\u001b[38;5;241m.\u001b[39m_libver \u001b[38;5;241m=\u001b[39m libver\n",
      "File \u001b[1;32m~\\AppData\\Local\\Programs\\Python\\Python310\\lib\\site-packages\\h5py\\_hl\\files.py:232\u001b[0m, in \u001b[0;36mmake_fid\u001b[1;34m(name, mode, userblock_size, fapl, fcpl, swmr)\u001b[0m\n\u001b[0;32m    230\u001b[0m     fid \u001b[38;5;241m=\u001b[39m h5f\u001b[38;5;241m.\u001b[39mcreate(name, h5f\u001b[38;5;241m.\u001b[39mACC_EXCL, fapl\u001b[38;5;241m=\u001b[39mfapl, fcpl\u001b[38;5;241m=\u001b[39mfcpl)\n\u001b[0;32m    231\u001b[0m \u001b[38;5;28;01melif\u001b[39;00m mode \u001b[38;5;241m==\u001b[39m \u001b[38;5;124m'\u001b[39m\u001b[38;5;124mw\u001b[39m\u001b[38;5;124m'\u001b[39m:\n\u001b[1;32m--> 232\u001b[0m     fid \u001b[38;5;241m=\u001b[39m \u001b[43mh5f\u001b[49m\u001b[38;5;241;43m.\u001b[39;49m\u001b[43mcreate\u001b[49m\u001b[43m(\u001b[49m\u001b[43mname\u001b[49m\u001b[43m,\u001b[49m\u001b[43m \u001b[49m\u001b[43mh5f\u001b[49m\u001b[38;5;241;43m.\u001b[39;49m\u001b[43mACC_TRUNC\u001b[49m\u001b[43m,\u001b[49m\u001b[43m \u001b[49m\u001b[43mfapl\u001b[49m\u001b[38;5;241;43m=\u001b[39;49m\u001b[43mfapl\u001b[49m\u001b[43m,\u001b[49m\u001b[43m \u001b[49m\u001b[43mfcpl\u001b[49m\u001b[38;5;241;43m=\u001b[39;49m\u001b[43mfcpl\u001b[49m\u001b[43m)\u001b[49m\n\u001b[0;32m    233\u001b[0m \u001b[38;5;28;01melif\u001b[39;00m mode \u001b[38;5;241m==\u001b[39m \u001b[38;5;124m'\u001b[39m\u001b[38;5;124ma\u001b[39m\u001b[38;5;124m'\u001b[39m:\n\u001b[0;32m    234\u001b[0m     \u001b[38;5;66;03m# Open in append mode (read/write).\u001b[39;00m\n\u001b[0;32m    235\u001b[0m     \u001b[38;5;66;03m# If that fails, create a new file only if it won't clobber an\u001b[39;00m\n\u001b[0;32m    236\u001b[0m     \u001b[38;5;66;03m# existing one (ACC_EXCL)\u001b[39;00m\n\u001b[0;32m    237\u001b[0m     \u001b[38;5;28;01mtry\u001b[39;00m:\n",
      "File \u001b[1;32mh5py\\_objects.pyx:54\u001b[0m, in \u001b[0;36mh5py._objects.with_phil.wrapper\u001b[1;34m()\u001b[0m\n",
      "File \u001b[1;32mh5py\\_objects.pyx:55\u001b[0m, in \u001b[0;36mh5py._objects.with_phil.wrapper\u001b[1;34m()\u001b[0m\n",
      "File \u001b[1;32mh5py\\h5f.pyx:126\u001b[0m, in \u001b[0;36mh5py.h5f.create\u001b[1;34m()\u001b[0m\n",
      "\u001b[1;31mOSError\u001b[0m: [Errno 0] Unable to create file (unable to lock file, errno = 0, error message = 'No error', Win32 GetLastError() = 33)"
     ]
    }
   ],
   "source": [
    "model.fit(\n",
    "    X_train,\n",
    "    y_train,\n",
    "    epochs=1000,\n",
    "    batch_size=128,\n",
    "    validation_data=(X_test, y_test),\n",
    "    callbacks=[cp_callback, es_callback]\n",
    ")"
   ]
  },
  {
   "cell_type": "code",
   "execution_count": null,
   "metadata": {
    "colab": {
     "base_uri": "https://localhost:8080/"
    },
    "id": "pxvb2Y299hE3",
    "outputId": "59eb3185-2e37-4b9e-bc9d-ab1b8ac29b7f"
   },
   "outputs": [],
   "source": [
    "# Model evaluation\n",
    "val_loss, val_acc = model.evaluate(X_test, y_test, batch_size=128)"
   ]
  },
  {
   "cell_type": "code",
   "execution_count": null,
   "metadata": {
    "id": "RBkmDeUW9hE4"
   },
   "outputs": [],
   "source": [
    "# Loading the saved model\n",
    "model = tf.keras.models.load_model(model_save_path)"
   ]
  },
  {
   "cell_type": "code",
   "execution_count": null,
   "metadata": {
    "colab": {
     "base_uri": "https://localhost:8080/"
    },
    "id": "tFz9Tb0I9hE4",
    "outputId": "1c3b3528-54ae-4ee2-ab04-77429211cbef"
   },
   "outputs": [],
   "source": [
    "# Inference test\n",
    "predict_result = model.predict(np.array([X_test[0]]))\n",
    "print(np.squeeze(predict_result))\n",
    "print(np.argmax(np.squeeze(predict_result)))"
   ]
  },
  {
   "cell_type": "markdown",
   "metadata": {
    "id": "S3U4yNWx9hE4"
   },
   "source": [
    "# Confusion matrix"
   ]
  },
  {
   "cell_type": "code",
   "execution_count": null,
   "metadata": {
    "colab": {
     "base_uri": "https://localhost:8080/",
     "height": 582
    },
    "id": "AP1V6SCk9hE5",
    "outputId": "08e41a80-7a4a-4619-8125-ecc371368d19"
   },
   "outputs": [],
   "source": [
    "import pandas as pd\n",
    "import seaborn as sns\n",
    "import matplotlib.pyplot as plt\n",
    "from sklearn.metrics import confusion_matrix, classification_report\n",
    "\n",
    "def print_confusion_matrix(y_true, y_pred, report=True):\n",
    "    labels = sorted(list(set(y_true)))\n",
    "    cmx_data = confusion_matrix(y_true, y_pred, labels=labels)\n",
    "    \n",
    "    df_cmx = pd.DataFrame(cmx_data, index=labels, columns=labels)\n",
    " \n",
    "    fig, ax = plt.subplots(figsize=(7, 6))\n",
    "    sns.heatmap(df_cmx, annot=True, fmt='g' ,square=False)\n",
    "    ax.set_ylim(len(set(y_true)), 0)\n",
    "    plt.show()\n",
    "    \n",
    "    if report:\n",
    "        print('Classification Report')\n",
    "        print(classification_report(y_test, y_pred))\n",
    "\n",
    "Y_pred = model.predict(X_test)\n",
    "y_pred = np.argmax(Y_pred, axis=1)\n",
    "\n",
    "print_confusion_matrix(y_test, y_pred)"
   ]
  },
  {
   "cell_type": "markdown",
   "metadata": {
    "id": "FNP6aqzc9hE5"
   },
   "source": [
    "# Convert to model for Tensorflow-Lite"
   ]
  },
  {
   "cell_type": "code",
   "execution_count": null,
   "metadata": {
    "id": "ODjnYyld9hE6"
   },
   "outputs": [],
   "source": [
    "# Save as a model dedicated to inference\n",
    "model.save(model_save_path, include_optimizer=False)"
   ]
  },
  {
   "cell_type": "code",
   "execution_count": null,
   "metadata": {
    "colab": {
     "base_uri": "https://localhost:8080/"
    },
    "id": "zRfuK8Y59hE6",
    "outputId": "a4ca585c-b5d5-4244-8291-8674063209bb"
   },
   "outputs": [],
   "source": [
    "# Transform model (quantization)\n",
    "\n",
    "converter = tf.lite.TFLiteConverter.from_keras_model(model)\n",
    "converter.optimizations = [tf.lite.Optimize.DEFAULT]\n",
    "tflite_quantized_model = converter.convert()\n",
    "\n",
    "open(tflite_save_path, 'wb').write(tflite_quantized_model)"
   ]
  },
  {
   "cell_type": "markdown",
   "metadata": {
    "id": "CHBPBXdx9hE6"
   },
   "source": [
    "# Inference test"
   ]
  },
  {
   "cell_type": "code",
   "execution_count": null,
   "metadata": {
    "id": "mGAzLocO9hE7"
   },
   "outputs": [],
   "source": [
    "interpreter = tf.lite.Interpreter(model_path=tflite_save_path)\n",
    "interpreter.allocate_tensors()"
   ]
  },
  {
   "cell_type": "code",
   "execution_count": null,
   "metadata": {
    "id": "oQuDK8YS9hE7"
   },
   "outputs": [],
   "source": [
    "# Get I / O tensor\n",
    "input_details = interpreter.get_input_details()\n",
    "output_details = interpreter.get_output_details()"
   ]
  },
  {
   "cell_type": "code",
   "execution_count": null,
   "metadata": {
    "id": "2_ixAf_l9hE7"
   },
   "outputs": [],
   "source": [
    "interpreter.set_tensor(input_details[0]['index'], np.array([X_test[0]]))"
   ]
  },
  {
   "cell_type": "code",
   "execution_count": null,
   "metadata": {
    "colab": {
     "base_uri": "https://localhost:8080/"
    },
    "id": "s4FoAnuc9hE7",
    "outputId": "91f18257-8d8b-4ef3-c558-e9b5f94fabbf",
    "scrolled": true
   },
   "outputs": [],
   "source": [
    "%%time\n",
    "# Inference implementation\n",
    "interpreter.invoke()\n",
    "tflite_results = interpreter.get_tensor(output_details[0]['index'])"
   ]
  },
  {
   "cell_type": "code",
   "execution_count": null,
   "metadata": {
    "colab": {
     "base_uri": "https://localhost:8080/"
    },
    "id": "vONjp19J9hE8",
    "outputId": "77205e24-fd00-42c4-f7b6-e06e527c2cba"
   },
   "outputs": [],
   "source": [
    "print(np.squeeze(tflite_results))\n",
    "print(np.argmax(np.squeeze(tflite_results)))"
   ]
  }
 ],
 "metadata": {
  "accelerator": "GPU",
  "colab": {
   "collapsed_sections": [],
   "name": "keypoint_classification_EN.ipynb",
   "provenance": [],
   "toc_visible": true
  },
  "kernelspec": {
   "display_name": "Python 3 (ipykernel)",
   "language": "python",
   "name": "python3"
  },
  "language_info": {
   "codemirror_mode": {
    "name": "ipython",
    "version": 3
   },
   "file_extension": ".py",
   "mimetype": "text/x-python",
   "name": "python",
   "nbconvert_exporter": "python",
   "pygments_lexer": "ipython3",
   "version": "3.10.4"
  }
 },
 "nbformat": 4,
 "nbformat_minor": 1
}
